{
 "cells": [
  {
   "cell_type": "code",
   "execution_count": 1,
   "metadata": {},
   "outputs": [],
   "source": [
    "import numpy as np\n",
    "import matplotlib.pyplot as plt\n",
    "import os\n",
    "import torch\n",
    "import torch.nn as nn\n",
    "import time \n"
   ]
  },
  {
   "cell_type": "code",
   "execution_count": 2,
   "metadata": {},
   "outputs": [],
   "source": [
    "import sys\n",
    "sys.path.insert(1, \"../\")\n",
    "\n",
    "\n",
    "from models import EmbeddingLayer\n",
    "from models import define_model\n",
    "\n",
    "from utils import loglin_transform\n"
   ]
  },
  {
   "cell_type": "code",
   "execution_count": 3,
   "metadata": {},
   "outputs": [],
   "source": [
    "from chainconsumer import ChainConsumer\n"
   ]
  },
  {
   "cell_type": "markdown",
   "metadata": {},
   "source": [
    "# Fig 1 and sampling time"
   ]
  },
  {
   "cell_type": "code",
   "execution_count": 4,
   "metadata": {},
   "outputs": [],
   "source": [
    "mcmcpoints_parlist=[\n",
    "       [-14.5,   2.5],\n",
    "       [-14.5,   4.5],\n",
    "       [-15.5,   2.5],\n",
    "       [-15.5,   4.5]]\n",
    "\n"
   ]
  },
  {
   "cell_type": "code",
   "execution_count": 5,
   "metadata": {},
   "outputs": [],
   "source": [
    "testpoints_grid={}\n",
    "testpoints_grid_transf={}\n",
    "for par in mcmcpoints_parlist:\n",
    "    testpoints_grid[par[0],par[1]]=np.load('../data/testpoints_grid/testpoints_fLDeltaf0.01_10p_withRN_forsteve_newRN_'+str(par[0])+'_'+str(par[1])+'_proj.npy')\n",
    "    testpoints_grid_transf[par[0],par[1]]=loglin_transform(testpoints_grid[par[0],par[1]]*1e7,1000)\n"
   ]
  },
  {
   "cell_type": "code",
   "execution_count": 6,
   "metadata": {},
   "outputs": [],
   "source": [
    "parmin=np.array([-18,1,-19,-19,-19,-19,-19,-19,-19,-19,-19,-19,1,1,1,1,1,1,1,1,1,1])\n",
    "parmax=np.array([-13,7,-13,-13,-13,-13,-13,-13,-13,-13,-13,-13,7,7,7,7,7,7,7,7,7,7])\n"
   ]
  },
  {
   "cell_type": "code",
   "execution_count": 7,
   "metadata": {},
   "outputs": [],
   "source": [
    "os.environ[\"CUDA_VISIBLE_DEVICES\"]='0,1,2'\n",
    "\n",
    "\n",
    "CUDA = True\n",
    "device = torch.device(\"cuda:0\" if CUDA else \"cpu\")\n",
    "\n",
    "kwargs = {'num_workers': 4, 'pin_memory': True} if CUDA else {}\n",
    "kwargs = {}\n"
   ]
  },
  {
   "cell_type": "code",
   "execution_count": 8,
   "metadata": {},
   "outputs": [
    {
     "name": "stderr",
     "output_type": "stream",
     "text": [
      "../models.py:221: UserWarning: nn.init.kaiming_normal is now deprecated in favor of nn.init.kaiming_normal_.\n",
      "  init.kaiming_normal(self.output.weight)\n",
      "../models.py:338: UserWarning: nn.init.kaiming_normal is now deprecated in favor of nn.init.kaiming_normal_.\n",
      "  init.kaiming_normal(self.output.weight)\n"
     ]
    },
    {
     "name": "stdout",
     "output_type": "stream",
     "text": [
      "50\n",
      "Flow_with_forward(\n",
      "  (_transform): CompositeTransform(\n",
      "    (_transforms): ModuleList(\n",
      "      (0): MaskedPiecewiseRationalQuadraticAutoregressiveTransform(\n",
      "        (autoregressive_net): MADE(\n",
      "          (initial_layer): MaskedLinear(in_features=22, out_features=200, bias=True)\n",
      "          (context_layer): Linear(in_features=50, out_features=200, bias=True)\n",
      "          (blocks): ModuleList(\n",
      "            (0): MaskedFeedforwardBlock(\n",
      "              (linear): MaskedLinear(in_features=200, out_features=200, bias=True)\n",
      "              (dropout): Dropout(p=0, inplace=False)\n",
      "            )\n",
      "            (1): MaskedFeedforwardBlock(\n",
      "              (linear): MaskedLinear(in_features=200, out_features=200, bias=True)\n",
      "              (dropout): Dropout(p=0, inplace=False)\n",
      "            )\n",
      "          )\n",
      "          (final_layer): MaskedLinear(in_features=200, out_features=506, bias=True)\n",
      "        )\n",
      "      )\n",
      "      (1): ReversePermutation()\n",
      "      (2): MaskedPiecewiseRationalQuadraticAutoregressiveTransform(\n",
      "        (autoregressive_net): MADE(\n",
      "          (initial_layer): MaskedLinear(in_features=22, out_features=200, bias=True)\n",
      "          (context_layer): Linear(in_features=50, out_features=200, bias=True)\n",
      "          (blocks): ModuleList(\n",
      "            (0): MaskedFeedforwardBlock(\n",
      "              (linear): MaskedLinear(in_features=200, out_features=200, bias=True)\n",
      "              (dropout): Dropout(p=0, inplace=False)\n",
      "            )\n",
      "            (1): MaskedFeedforwardBlock(\n",
      "              (linear): MaskedLinear(in_features=200, out_features=200, bias=True)\n",
      "              (dropout): Dropout(p=0, inplace=False)\n",
      "            )\n",
      "          )\n",
      "          (final_layer): MaskedLinear(in_features=200, out_features=506, bias=True)\n",
      "        )\n",
      "      )\n",
      "      (3): RandomPermutation()\n",
      "      (4): MaskedPiecewiseRationalQuadraticAutoregressiveTransform(\n",
      "        (autoregressive_net): MADE(\n",
      "          (initial_layer): MaskedLinear(in_features=22, out_features=200, bias=True)\n",
      "          (context_layer): Linear(in_features=50, out_features=200, bias=True)\n",
      "          (blocks): ModuleList(\n",
      "            (0): MaskedFeedforwardBlock(\n",
      "              (linear): MaskedLinear(in_features=200, out_features=200, bias=True)\n",
      "              (dropout): Dropout(p=0, inplace=False)\n",
      "            )\n",
      "            (1): MaskedFeedforwardBlock(\n",
      "              (linear): MaskedLinear(in_features=200, out_features=200, bias=True)\n",
      "              (dropout): Dropout(p=0, inplace=False)\n",
      "            )\n",
      "          )\n",
      "          (final_layer): MaskedLinear(in_features=200, out_features=506, bias=True)\n",
      "        )\n",
      "      )\n",
      "      (5): ReversePermutation()\n",
      "      (6): MaskedPiecewiseRationalQuadraticAutoregressiveTransform(\n",
      "        (autoregressive_net): MADE(\n",
      "          (initial_layer): MaskedLinear(in_features=22, out_features=200, bias=True)\n",
      "          (context_layer): Linear(in_features=50, out_features=200, bias=True)\n",
      "          (blocks): ModuleList(\n",
      "            (0): MaskedFeedforwardBlock(\n",
      "              (linear): MaskedLinear(in_features=200, out_features=200, bias=True)\n",
      "              (dropout): Dropout(p=0, inplace=False)\n",
      "            )\n",
      "            (1): MaskedFeedforwardBlock(\n",
      "              (linear): MaskedLinear(in_features=200, out_features=200, bias=True)\n",
      "              (dropout): Dropout(p=0, inplace=False)\n",
      "            )\n",
      "          )\n",
      "          (final_layer): MaskedLinear(in_features=200, out_features=506, bias=True)\n",
      "        )\n",
      "      )\n",
      "      (7): RandomPermutation()\n",
      "      (8): MaskedPiecewiseRationalQuadraticAutoregressiveTransform(\n",
      "        (autoregressive_net): MADE(\n",
      "          (initial_layer): MaskedLinear(in_features=22, out_features=200, bias=True)\n",
      "          (context_layer): Linear(in_features=50, out_features=200, bias=True)\n",
      "          (blocks): ModuleList(\n",
      "            (0): MaskedFeedforwardBlock(\n",
      "              (linear): MaskedLinear(in_features=200, out_features=200, bias=True)\n",
      "              (dropout): Dropout(p=0, inplace=False)\n",
      "            )\n",
      "            (1): MaskedFeedforwardBlock(\n",
      "              (linear): MaskedLinear(in_features=200, out_features=200, bias=True)\n",
      "              (dropout): Dropout(p=0, inplace=False)\n",
      "            )\n",
      "          )\n",
      "          (final_layer): MaskedLinear(in_features=200, out_features=506, bias=True)\n",
      "        )\n",
      "      )\n",
      "      (9): ReversePermutation()\n",
      "      (10): MaskedPiecewiseRationalQuadraticAutoregressiveTransform(\n",
      "        (autoregressive_net): MADE(\n",
      "          (initial_layer): MaskedLinear(in_features=22, out_features=200, bias=True)\n",
      "          (context_layer): Linear(in_features=50, out_features=200, bias=True)\n",
      "          (blocks): ModuleList(\n",
      "            (0): MaskedFeedforwardBlock(\n",
      "              (linear): MaskedLinear(in_features=200, out_features=200, bias=True)\n",
      "              (dropout): Dropout(p=0, inplace=False)\n",
      "            )\n",
      "            (1): MaskedFeedforwardBlock(\n",
      "              (linear): MaskedLinear(in_features=200, out_features=200, bias=True)\n",
      "              (dropout): Dropout(p=0, inplace=False)\n",
      "            )\n",
      "          )\n",
      "          (final_layer): MaskedLinear(in_features=200, out_features=506, bias=True)\n",
      "        )\n",
      "      )\n",
      "      (11): RandomPermutation()\n",
      "      (12): MaskedPiecewiseRationalQuadraticAutoregressiveTransform(\n",
      "        (autoregressive_net): MADE(\n",
      "          (initial_layer): MaskedLinear(in_features=22, out_features=200, bias=True)\n",
      "          (context_layer): Linear(in_features=50, out_features=200, bias=True)\n",
      "          (blocks): ModuleList(\n",
      "            (0): MaskedFeedforwardBlock(\n",
      "              (linear): MaskedLinear(in_features=200, out_features=200, bias=True)\n",
      "              (dropout): Dropout(p=0, inplace=False)\n",
      "            )\n",
      "            (1): MaskedFeedforwardBlock(\n",
      "              (linear): MaskedLinear(in_features=200, out_features=200, bias=True)\n",
      "              (dropout): Dropout(p=0, inplace=False)\n",
      "            )\n",
      "          )\n",
      "          (final_layer): MaskedLinear(in_features=200, out_features=506, bias=True)\n",
      "        )\n",
      "      )\n",
      "      (13): ReversePermutation()\n",
      "      (14): MaskedPiecewiseRationalQuadraticAutoregressiveTransform(\n",
      "        (autoregressive_net): MADE(\n",
      "          (initial_layer): MaskedLinear(in_features=22, out_features=200, bias=True)\n",
      "          (context_layer): Linear(in_features=50, out_features=200, bias=True)\n",
      "          (blocks): ModuleList(\n",
      "            (0): MaskedFeedforwardBlock(\n",
      "              (linear): MaskedLinear(in_features=200, out_features=200, bias=True)\n",
      "              (dropout): Dropout(p=0, inplace=False)\n",
      "            )\n",
      "            (1): MaskedFeedforwardBlock(\n",
      "              (linear): MaskedLinear(in_features=200, out_features=200, bias=True)\n",
      "              (dropout): Dropout(p=0, inplace=False)\n",
      "            )\n",
      "          )\n",
      "          (final_layer): MaskedLinear(in_features=200, out_features=506, bias=True)\n",
      "        )\n",
      "      )\n",
      "    )\n",
      "  )\n",
      "  (_distribution): NflowsUniform()\n",
      "  (_embedding_net): EmbeddingLayer(\n",
      "    (embedding0): SinglePulsarEmbedding_LSTM(\n",
      "      (lstm): LSTM(1, 100, num_layers=2, batch_first=True)\n",
      "      (dense_4): Linear(in_features=400, out_features=200, bias=True)\n",
      "      (dense_5): Linear(in_features=200, out_features=100, bias=True)\n",
      "      (output): Linear(in_features=100, out_features=20, bias=True)\n",
      "    )\n",
      "    (embedding1): SinglePulsarEmbedding_LSTM(\n",
      "      (lstm): LSTM(1, 100, num_layers=2, batch_first=True)\n",
      "      (dense_4): Linear(in_features=400, out_features=200, bias=True)\n",
      "      (dense_5): Linear(in_features=200, out_features=100, bias=True)\n",
      "      (output): Linear(in_features=100, out_features=20, bias=True)\n",
      "    )\n",
      "    (embedding2): SinglePulsarEmbedding_LSTM(\n",
      "      (lstm): LSTM(1, 100, num_layers=2, batch_first=True)\n",
      "      (dense_4): Linear(in_features=400, out_features=200, bias=True)\n",
      "      (dense_5): Linear(in_features=200, out_features=100, bias=True)\n",
      "      (output): Linear(in_features=100, out_features=20, bias=True)\n",
      "    )\n",
      "    (embedding3): SinglePulsarEmbedding_LSTM(\n",
      "      (lstm): LSTM(1, 100, num_layers=2, batch_first=True)\n",
      "      (dense_4): Linear(in_features=400, out_features=200, bias=True)\n",
      "      (dense_5): Linear(in_features=200, out_features=100, bias=True)\n",
      "      (output): Linear(in_features=100, out_features=20, bias=True)\n",
      "    )\n",
      "    (embedding4): SinglePulsarEmbedding_LSTM(\n",
      "      (lstm): LSTM(1, 100, num_layers=2, batch_first=True)\n",
      "      (dense_4): Linear(in_features=400, out_features=200, bias=True)\n",
      "      (dense_5): Linear(in_features=200, out_features=100, bias=True)\n",
      "      (output): Linear(in_features=100, out_features=20, bias=True)\n",
      "    )\n",
      "    (embedding5): SinglePulsarEmbedding_LSTM(\n",
      "      (lstm): LSTM(1, 100, num_layers=2, batch_first=True)\n",
      "      (dense_4): Linear(in_features=400, out_features=200, bias=True)\n",
      "      (dense_5): Linear(in_features=200, out_features=100, bias=True)\n",
      "      (output): Linear(in_features=100, out_features=20, bias=True)\n",
      "    )\n",
      "    (embedding6): SinglePulsarEmbedding_LSTM(\n",
      "      (lstm): LSTM(1, 100, num_layers=2, batch_first=True)\n",
      "      (dense_4): Linear(in_features=400, out_features=200, bias=True)\n",
      "      (dense_5): Linear(in_features=200, out_features=100, bias=True)\n",
      "      (output): Linear(in_features=100, out_features=20, bias=True)\n",
      "    )\n",
      "    (embedding7): SinglePulsarEmbedding_LSTM(\n",
      "      (lstm): LSTM(1, 100, num_layers=2, batch_first=True)\n",
      "      (dense_4): Linear(in_features=400, out_features=200, bias=True)\n",
      "      (dense_5): Linear(in_features=200, out_features=100, bias=True)\n",
      "      (output): Linear(in_features=100, out_features=20, bias=True)\n",
      "    )\n",
      "    (embedding8): SinglePulsarEmbedding_LSTM(\n",
      "      (lstm): LSTM(1, 100, num_layers=2, batch_first=True)\n",
      "      (dense_4): Linear(in_features=400, out_features=200, bias=True)\n",
      "      (dense_5): Linear(in_features=200, out_features=100, bias=True)\n",
      "      (output): Linear(in_features=100, out_features=20, bias=True)\n",
      "    )\n",
      "    (embedding9): SinglePulsarEmbedding_LSTM(\n",
      "      (lstm): LSTM(1, 100, num_layers=2, batch_first=True)\n",
      "      (dense_4): Linear(in_features=400, out_features=200, bias=True)\n",
      "      (dense_5): Linear(in_features=200, out_features=100, bias=True)\n",
      "      (output): Linear(in_features=100, out_features=20, bias=True)\n",
      "    )\n",
      "    (dense_4): Linear(in_features=200, out_features=100, bias=True)\n",
      "    (dense_5): Linear(in_features=100, out_features=100, bias=True)\n",
      "    (output): Linear(in_features=100, out_features=50, bias=True)\n",
      "  )\n",
      ")\n",
      "Let's use 3 GPUs!\n"
     ]
    }
   ],
   "source": [
    "ntoalist=[405, 444, 299, 233, 259, 275, 133, 265, 167, 460]\n",
    "\n",
    "embedding=EmbeddingLayer(ntoalist,noutput=50)\n",
    "\n",
    "#(ninputlist=(np.array(ntoalist)).tolist(),noutput=20,nsingle=20)\n",
    "model=define_model(nfeatures=22,nhidden=2,hidden_size=200,embedding=embedding,dropout=0,nembedding=50)\n",
    "if torch.cuda.device_count() > 1:\n",
    "    print(\"Let's use\", torch.cuda.device_count(), \"GPUs!\")\n",
    "####    # dim = 0 [30, xxx] -> [10, ...], [10, ...], [10, ...] on 3 GPUs\n",
    "    embedding = nn.DataParallel(embedding)\n",
    "#####    logprob_parallel=nn.DataParallel(model.log_prob)\n",
    "    model = nn.DataParallel(model)\n",
    "embedding=embedding.to(device)\n",
    "model=model.to(device)\n",
    "\n"
   ]
  },
  {
   "cell_type": "code",
   "execution_count": 9,
   "metadata": {},
   "outputs": [
    {
     "name": "stdout",
     "output_type": "stream",
     "text": [
      "0 [-14.5, 2.5]\n",
      "10.553497791290283\n",
      "1 [-14.5, 4.5]\n",
      "10.497138261795044\n",
      "2 [-15.5, 2.5]\n",
      "10.485930919647217\n",
      "3 [-15.5, 4.5]\n",
      "10.479602813720703\n"
     ]
    }
   ],
   "source": [
    "flow_samples={}\n",
    "for ii,par in enumerate(mcmcpoints_parlist):\n",
    "    print(ii,par)\n",
    "    with torch.no_grad():\n",
    "#        testpoint_transf=testpoints_transf[ii]\n",
    "        iepoch=87\n",
    "        model.load_state_dict(torch.load('../trained_models/babydataset_1M_fLDeltaf0.01_10p_withRN_SinglePulsarStackedLSTM_v2/babydataset_fLDeltaf0.01_epoch_'+str(iepoch)+'_Model.par'))\n",
    "        model.eval()\n",
    "        t0=time.time()\n",
    "        testposterior=model.module.sample(100000,\n",
    "                              torch.from_numpy(testpoints_grid_transf[par[0],par[1]].reshape((1,2940)).astype('float32')).to(device)\\\n",
    "                               )\n",
    "        t1=time.time()\n",
    "        print(t1-t0)\n",
    "        testposterior=testposterior.cpu().detach().numpy()\n",
    "        datatry=testposterior.reshape((100000,-1))\n",
    "        datatry=0.5*(parmin + parmax + (parmax-parmin)*datatry)\n",
    "        flow_samples[par[1],par[0]]=datatry\n",
    "   \n",
    "   "
   ]
  },
  {
   "cell_type": "code",
   "execution_count": 10,
   "metadata": {},
   "outputs": [],
   "source": [
    "mcmcpoints_grid=np.load('../data/mcmc_chains_pargrid.npy')"
   ]
  },
  {
   "cell_type": "code",
   "execution_count": 11,
   "metadata": {},
   "outputs": [
    {
     "data": {
      "image/png": "[encoded data removed]",
      "text/plain": [
       "<Figure size 1080x216 with 4 Axes>"
      ]
     },
     "metadata": {
      "needs_background": "light"
     },
     "output_type": "display_data"
    }
   ],
   "source": [
    "from matplotlib.lines import Line2D\n",
    "cmap = plt.cm.coolwarm\n",
    "\n",
    "\n",
    "fig, ax = plt.subplots(1,4,figsize=(15,3), sharey=True, gridspec_kw={'wspace': .05})\n",
    "\n",
    "parnames=[\"$\\gamma_{GW}$\", \"$log_{10}(A_{GW})$\"]\n",
    "for ii,par in enumerate(mcmcpoints_parlist):\n",
    "    datatry=flow_samples[par[1],par[0]]\n",
    "    c = ChainConsumer()\n",
    "    c.add_chain(np.dstack((datatry[:,1],datatry[:,0]))[0], parameters=parnames,\\\n",
    "                color='red',name='Normalizing flow',smooth=.5,bins=50,linestyle=\"dashed\",shade=False,kde=2)\n",
    "\n",
    "    c.add_chain(mcmcpoints_grid[ii],\\\n",
    "    parameters=parnames,name='True posterior (MCMC) ',color='blue',\\\n",
    "                shade_alpha=0.2,smooth=.2,bins=50,shade=False,kde=2)\n",
    "    c.plotter.plot_contour(ax[ii], parnames[0], parnames[1])\n",
    "    ax[ii].axvline(par[1],color='gray',linestyle='dotted')\n",
    "    ax[ii].axhline(par[0],color='gray',linestyle='dotted')\n",
    "\n",
    "ax[0].set_xlabel(parnames[0],fontsize=18)\n",
    "ax[0].tick_params(labelsize=18)\n",
    "ax[0].set_xlim(1,7)\n",
    "\n",
    "ax[1].set_xlabel(parnames[0],fontsize=18)\n",
    "ax[1].tick_params(labelsize=18)\n",
    "ax[1].set_xlim(1,7)\n",
    "\n",
    "ax[2].set_xlabel(parnames[0],fontsize=18)\n",
    "ax[2].tick_params(labelsize=18)\n",
    "ax[2].set_xlim(1,7)\n",
    "\n",
    "ax[3].set_xlabel(parnames[0],fontsize=18)\n",
    "ax[3].tick_params(labelsize=18)\n",
    "ax[3].set_xlim(1,7)\n",
    "\n",
    "ax[0].set_ylabel(parnames[1],fontsize=18)\n",
    "ax[0].set_ylim(-17.5,-11) \n",
    "\n",
    "# I got these hex color numbers from \n",
    "# ~/.local/lib/python3.7/site-packages/chainconsumer/colors.py\n",
    "custom_lines = [Line2D([0], [0], color=\"#E53935\", lw=1,ls='dashed'),\n",
    "                Line2D([0], [0], color=\"#1976D2\", lw=1)]\n",
    "#                Line2D([0], [0], color=cmap(1.), lw=4)]\n",
    "ax[0].legend(custom_lines, ['Normalizing flow', 'True posterior (MCMC)'],fontsize=10)\n",
    "\n",
    "plt.savefig('mcmcpoints_grid_no1d_noshade_kde.pdf',bbox_inches=\"tight\")"
   ]
  },
  {
   "cell_type": "markdown",
   "metadata": {},
   "source": [
    "# Fig 2"
   ]
  },
  {
   "cell_type": "code",
   "execution_count": 12,
   "metadata": {},
   "outputs": [],
   "source": [
    "mcmcpoints=np.load('../data/mcmc_chains_nominal.npy')"
   ]
  },
  {
   "cell_type": "code",
   "execution_count": 13,
   "metadata": {},
   "outputs": [
    {
     "name": "stdout",
     "output_type": "stream",
     "text": [
      "(4, 2940)\n"
     ]
    }
   ],
   "source": [
    "testpoints_nominal=[]\n",
    "for ii in range(4):\n",
    "    testpoints_nominal.append(np.load('../data/testpoints_nominal/testpoints_fLDeltaf0.01_10p_withRN_forsteve_newRN_nominal_proj_'+str(ii+1)+'.npy'))\n",
    "\n",
    "    \n",
    "testpoints_nominal=np.array(testpoints_nominal) \n",
    "print(testpoints_nominal.shape)"
   ]
  },
  {
   "cell_type": "code",
   "execution_count": 14,
   "metadata": {},
   "outputs": [],
   "source": [
    "testpoints_transf=loglin_transform(testpoints_nominal*1e7,1000)\n",
    "    "
   ]
  },
  {
   "cell_type": "code",
   "execution_count": 15,
   "metadata": {},
   "outputs": [
    {
     "name": "stdout",
     "output_type": "stream",
     "text": [
      "0\n",
      "10.482011079788208\n",
      "1\n",
      "10.4853675365448\n",
      "2\n",
      "10.477440595626831\n",
      "3\n",
      "10.48435926437378\n"
     ]
    }
   ],
   "source": [
    "flow_samples={}\n",
    "for ii in range(len(testpoints_transf)):\n",
    "    print(ii)\n",
    "    with torch.no_grad():\n",
    "#        testpoint_transf=testpoints_transf[ii]\n",
    "        iepoch=87\n",
    "        model.load_state_dict(torch.load('../trained_models/babydataset_1M_fLDeltaf0.01_10p_withRN_SinglePulsarStackedLSTM_v2/babydataset_fLDeltaf0.01_epoch_'+str(iepoch)+'_Model.par'))\n",
    "        model.eval()\n",
    "        t0=time.time()\n",
    "        testposterior=model.module.sample(100000,\n",
    "                              torch.from_numpy(testpoints_transf[ii].reshape((1,2940)).astype('float32')).to(device)\\\n",
    "                               )\n",
    "        t1=time.time()\n",
    "        print(t1-t0)\n",
    "        testposterior=testposterior.cpu().detach().numpy()\n",
    "        datatry=testposterior.reshape((100000,-1))\n",
    "        datatry=0.5*(parmin + parmax + (parmax-parmin)*datatry)\n",
    "        flow_samples[ii]=datatry\n",
    "   \n",
    "   "
   ]
  },
  {
   "cell_type": "code",
   "execution_count": 16,
   "metadata": {},
   "outputs": [
    {
     "data": {
      "image/png": "[encoded data removed]",
      "text/plain": [
       "<Figure size 1080x216 with 4 Axes>"
      ]
     },
     "metadata": {
      "needs_background": "light"
     },
     "output_type": "display_data"
    }
   ],
   "source": [
    "from matplotlib.lines import Line2D\n",
    "cmap = plt.cm.coolwarm\n",
    "\n",
    "\n",
    "fig, ax = plt.subplots(1,4,figsize=(15,3), sharey=True, gridspec_kw={'wspace': .05})\n",
    "\n",
    "parnames=[\"$\\gamma_{GW}$\", \"$log_{10}(A_{GW})$\"]\n",
    "for ii in range(4):\n",
    "    c = ChainConsumer()\n",
    "    c.add_chain(flow_samples[ii][:,[1,0]], parameters=parnames,\\\n",
    "                color='red',name='Normalizing flow',smooth=.5,bins=50,linestyle=\"dashed\",shade=False,kde=2)\n",
    "\n",
    "    c.add_chain(mcmcpoints[ii],\\\n",
    "    parameters=parnames,name='True posterior (MCMC) ',color='blue',\\\n",
    "                shade_alpha=0.2,smooth=.2,bins=50,shade=False,kde=2)\n",
    "    c.plotter.plot_contour(ax[ii], parnames[0], parnames[1])\n",
    "    ax[ii].axvline(13/3,color='gray',linestyle='dotted')\n",
    "    ax[ii].axhline(-15,color='gray',linestyle='dotted')\n",
    "\n",
    "ax[0].set_xlabel(parnames[0],fontsize=18)\n",
    "ax[0].tick_params(labelsize=18)\n",
    "ax[0].set_xlim(1,7)\n",
    "\n",
    "ax[1].set_xlabel(parnames[0],fontsize=18)\n",
    "ax[1].tick_params(labelsize=18)\n",
    "ax[1].set_xlim(1,7)\n",
    "\n",
    "ax[2].set_xlabel(parnames[0],fontsize=18)\n",
    "ax[2].tick_params(labelsize=18)\n",
    "ax[2].set_xlim(1,7)\n",
    "\n",
    "ax[3].set_xlabel(parnames[0],fontsize=18)\n",
    "ax[3].tick_params(labelsize=18)\n",
    "ax[3].set_xlim(1,7)\n",
    "\n",
    "ax[0].set_ylabel(parnames[1],fontsize=18)\n",
    "ax[0].set_ylim(-17.5,-11) \n",
    "\n",
    "# I got these hex color numbers from \n",
    "# ~/.local/lib/python3.7/site-packages/chainconsumer/colors.py\n",
    "custom_lines = [Line2D([0], [0], color=\"#E53935\", lw=1,ls='dashed'),\n",
    "                Line2D([0], [0], color=\"#1976D2\", lw=1)]\n",
    "#                Line2D([0], [0], color=cmap(1.), lw=4)]\n",
    "ax[0].legend(custom_lines, ['Normalizing flow', 'True posterior (MCMC)'],fontsize=10)\n",
    "\n",
    "plt.savefig('mcmcpoints_nominal_no1d_noshade_kde.pdf',bbox_inches=\"tight\")"
   ]
  },
  {
   "cell_type": "markdown",
   "metadata": {},
   "source": [
    "# Fig 3"
   ]
  },
  {
   "cell_type": "code",
   "execution_count": 30,
   "metadata": {},
   "outputs": [],
   "source": [
    "residuals=np.load('../data/testpoints_nominal/testpoints_fLDeltaf0.01_10p_withRN_forsteve_newRN_nominal_proj_2.npy')\n",
    "\n",
    "flowLL=[]\n",
    "trueLL=[]\n",
    "samples=[]\n",
    "for ii in range(10):\n",
    "    flowLL+=np.load('../data/testpoints_nominal/testpoints_fLDeltaf0.01_10p_withRN_forsteve_newRN_nominal_proj_2_flowLL_batch'+str(ii)+'.npy').tolist()\n",
    "    trueLL+=np.load('../data/testpoints_nominal/testpoints_fLDeltaf0.01_10p_withRN_forsteve_newRN_nominal_proj_2_trueLL_batch'+str(ii)+'.npy').tolist()\n",
    "    samples+=np.load('../data/testpoints_nominal/testpoints_fLDeltaf0.01_10p_withRN_forsteve_newRN_nominal_proj_2_samples_batch'+str(ii)+'.npy').tolist()\n",
    "\n",
    "flowLL=np.array(flowLL)\n",
    "trueLL=np.array(trueLL)\n",
    "samples=np.array(samples)\n"
   ]
  },
  {
   "cell_type": "code",
   "execution_count": 31,
   "metadata": {},
   "outputs": [
    {
     "name": "stdout",
     "output_type": "stream",
     "text": [
      "(2940,) (908100,) (908100,) (908100, 22)\n"
     ]
    }
   ],
   "source": [
    "print(residuals.shape,flowLL.shape,trueLL.shape,samples.shape)"
   ]
  },
  {
   "cell_type": "code",
   "execution_count": 32,
   "metadata": {},
   "outputs": [],
   "source": [
    "def calculate_weights(flowLL,trueLL,samples,offset=26000,ncut=2000):\n",
    "    # 'likelihoods' come from the flow, they are the log probs\n",
    "    # 'true likelihoods' come from pulsar.py and are the NEGATIVE log probs\n",
    "    allsamples_flowll=flowLL\n",
    "    allsamples=trueLL\n",
    "    parameters_allsamples=samples\n",
    "    problist=np.exp(-allsamples_flowll-allsamples-offset)\n",
    "    \n",
    "    finitemask=np.isfinite(problist)\n",
    "    indsort=np.argsort(problist[finitemask])\n",
    "    testpoints_weights=problist[finitemask][indsort]\n",
    "    testpoints_pars=parameters_allsamples[finitemask][indsort]\n",
    "\n",
    "    if ncut>0:\n",
    "        maxval=testpoints_weights[-ncut]\n",
    "#            avgval=np.median(testpoints_weights[ii][-ncut:])\n",
    "        testpoints_weights[-ncut:]=maxval\n",
    "\n",
    "        \n",
    "#        if ncut<=0:\n",
    "#            indsort=np.argsort(problistpt[finitemask])\n",
    "#        else:\n",
    "#            indsort=np.argsort(problistpt[finitemask])[:-ncut]\n",
    "#                \n",
    "#        testpoints_weights[ii]=problistpt[finitemask][indsort]\n",
    "\n",
    "    normalization=np.sum(testpoints_weights)\n",
    "    testpoints_weights=testpoints_weights/normalization\n",
    "\n",
    "    return testpoints_pars,testpoints_weights,normalization"
   ]
  },
  {
   "cell_type": "code",
   "execution_count": 33,
   "metadata": {},
   "outputs": [],
   "source": [
    "pars,weights,norm=calculate_weights(flowLL,trueLL,samples,offset=45500,ncut=100)\n"
   ]
  },
  {
   "cell_type": "code",
   "execution_count": 34,
   "metadata": {},
   "outputs": [
    {
     "data": {
      "image/png": "[encoded data removed]",
      "text/plain": [
       "<Figure size 360x360 with 4 Axes>"
      ]
     },
     "metadata": {
      "needs_background": "light"
     },
     "output_type": "display_data"
    }
   ],
   "source": [
    "\n",
    "c = ChainConsumer()\n",
    "\n",
    "c.add_chain(pars[:,[1,0]], parameters=[\"$\\gamma_{GW}$\", \"$log_{10}(A_{GW})$\"],\\\n",
    "            color='red',name='Normalizing flow (raw)',shade=False,linestyle='dashed')\n",
    "\n",
    "\n",
    "c.add_chain(mcmcpoints[1],\\\n",
    "parameters=[\"$\\gamma_{GW}$\", \"$log_{10}(A_{GW})$\"],name='MCMC',color='blue',\\\n",
    "           shade=False)\n",
    "\n",
    "c.add_chain(pars[:,[1,0]],weights=weights,\\\n",
    "parameters=[\"$\\gamma_{GW}$\", \"$log_{10}(A_{GW})$\"],name='Normalizing flow (reweighted)',color='orange',\\\n",
    "           shade=False,linestyle='dashed')\n",
    "\n",
    "c.configure(label_font_size=14, tick_font_size=14)\n",
    "\n",
    "fig = c.plotter.plot(display=True,figsize=\"column\", truth=[13/3,-15],extents={\"$log_{10}(A_{GW})$\": (-18,-11),\\\n",
    "                                                                                \"$\\gamma_{GW}$\": (1,7)})\n"
   ]
  },
  {
   "cell_type": "code",
   "execution_count": 21,
   "metadata": {},
   "outputs": [],
   "source": [
    "fig.savefig('posterior_reweighted.pdf',bbox_inches='tight')"
   ]
  },
  {
   "cell_type": "code",
   "execution_count": null,
   "metadata": {},
   "outputs": [],
   "source": []
  }
 ],
 "metadata": {
  "kernelspec": {
   "display_name": "Python 3",
   "language": "python",
   "name": "python3"
  },
  "language_info": {
   "codemirror_mode": {
    "name": "ipython",
    "version": 3
   },
   "file_extension": ".py",
   "mimetype": "text/x-python",
   "name": "python",
   "nbconvert_exporter": "python",
   "pygments_lexer": "ipython3",
   "version": "3.7.3"
  }
 },
 "nbformat": 4,
 "nbformat_minor": 2
}
